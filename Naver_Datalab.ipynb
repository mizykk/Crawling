{
 "cells": [
  {
   "cell_type": "markdown",
   "metadata": {},
   "source": [
    "# 네이버 데이터랩 쇼핑인사이트 인기검색어 크롤링"
   ]
  },
  {
   "cell_type": "markdown",
   "metadata": {},
   "source": [
    "네이버 데이터랩 API가 있지만 API로는 쇼핑인사이트의 인기검색어를 가져올 수 없다.  \n",
    "따라서 파이썬의 셀레니움을 이용하여 데이터랩의 인기검색어를 가져와봤다.\n",
    "\n",
    " \n",
    "\n",
    "인기검색어가 20개만 노출되어 있기 때문에 다음으로 넘기는 버튼을 클릭하기 위해서는 bs4보다는 selenium이 더 적합하다."
   ]
  },
  {
   "cell_type": "code",
   "execution_count": 1,
   "metadata": {},
   "outputs": [],
   "source": [
    "import time\n",
    "from selenium import webdriver\n",
    "\n",
    "driver = webdriver.Chrome('./chromedriver')\n",
    "\n",
    "# 쇼핑인사이트 이동\n",
    "path = 'https://datalab.naver.com/shoppingInsight/sCategory.naver'\n",
    "driver.get(path)\n",
    "\n",
    "# 기기별 전체 선택\n",
    "driver.find_element_by_xpath('//*[@id=\"18_device_0\"]').click()\n",
    "# 성별 전체 선택\n",
    "driver.find_element_by_xpath('//*[@id=\"19_gender_0\"]').click()\n",
    "# 연령별 전체 선택\n",
    "driver.find_element_by_xpath('//*[@id=\"20_age_0\"]').click()\n",
    "\n",
    "\n",
    "# 분류 & 기간 선택\n",
    "time.sleep(20)\n",
    "\n",
    "\n",
    "# 조회하기 클릭\n",
    "driver.find_element_by_xpath('//*[@id=\"content\"]/div[2]/div/div[1]/div/a').click()\n",
    "time.sleep(3)\n",
    "\n",
    "\n",
    "keyword_list = []\n",
    "\n",
    "for p in range(0, 25):\n",
    "    # 인기검색어 가져오기\n",
    "    for i in range(1, 21):\n",
    "        keyword_path = f'//*[@id=\"content\"]/div[2]/div/div[2]/div[2]/div/div/div[1]/ul/li[{i}]/a'\n",
    "        keyword_list.append(driver.find_element_by_xpath(keyword_path).text)\n",
    "\n",
    "    # 다음 페이지 넘기기 \n",
    "    driver.find_element_by_xpath('//*[@id=\"content\"]/div[2]/div/div[2]/div[2]/div/div/div[2]/div/a[2]').click()\n",
    "    time.sleep(1)\n",
    "\n",
    "\n",
    "\n",
    "# 종료하기"
   ]
  },
  {
   "cell_type": "markdown",
   "metadata": {},
   "source": [
    "분류와 검색기간의 조건은 설정하지 않고 기기별/성별/연령은 전체선택하도록 코드를 작성해보았다.   \n",
    "최근 한 달 간 패션의류 카테고리의 인기검색어 500개를 가져오게 된다.\n",
    "\n",
    "\n",
    "키워드를 받아올 때는 따로 시간지연(time.sleep)은 입력해두지 않았는데 필요에 따라 추가하면 된다.   \n",
    "\n",
    "   \n",
    "   \n",
    "중간에 조건설정을 위해 time.sleep(20)을 넣어준 것은 좀 야매이긴하다,,,   \n",
    "분류와 날짜 조건 코드를 변경하는 것보다 손으로 바꾸는게 편할거같아서 20초의 공백시간을 입력해두었다.   \n",
    "처음 크롬창이 나타났을 때 20초 동안 분류나 조건을 변경하고 조회하기를 누르면 된다."
   ]
  },
  {
   "cell_type": "markdown",
   "metadata": {},
   "source": [
    "### 인기키워드 데이터프레임으로 만들기"
   ]
  },
  {
   "cell_type": "markdown",
   "metadata": {},
   "source": [
    "받아온 리스트를 데이터프레임으로 만들어주었다. '순위\\n키워드'의 형태로 데이터가 들어있기에 \\n를 기준으로 split해준 후 각각 열 이름을 지정해주었다.  "
   ]
  },
  {
   "cell_type": "code",
   "execution_count": 2,
   "metadata": {},
   "outputs": [
    {
     "data": {
      "text/html": [
       "<div>\n",
       "<style scoped>\n",
       "    .dataframe tbody tr th:only-of-type {\n",
       "        vertical-align: middle;\n",
       "    }\n",
       "\n",
       "    .dataframe tbody tr th {\n",
       "        vertical-align: top;\n",
       "    }\n",
       "\n",
       "    .dataframe thead th {\n",
       "        text-align: right;\n",
       "    }\n",
       "</style>\n",
       "<table border=\"1\" class=\"dataframe\">\n",
       "  <thead>\n",
       "    <tr style=\"text-align: right;\">\n",
       "      <th></th>\n",
       "      <th>순위</th>\n",
       "      <th>인기검색어</th>\n",
       "    </tr>\n",
       "  </thead>\n",
       "  <tbody>\n",
       "    <tr>\n",
       "      <th>0</th>\n",
       "      <td>1</td>\n",
       "      <td>원피스</td>\n",
       "    </tr>\n",
       "    <tr>\n",
       "      <th>1</th>\n",
       "      <td>2</td>\n",
       "      <td>트위드자켓</td>\n",
       "    </tr>\n",
       "    <tr>\n",
       "      <th>2</th>\n",
       "      <td>3</td>\n",
       "      <td>트렌치코트</td>\n",
       "    </tr>\n",
       "    <tr>\n",
       "      <th>3</th>\n",
       "      <td>4</td>\n",
       "      <td>나이키바람막이</td>\n",
       "    </tr>\n",
       "    <tr>\n",
       "      <th>4</th>\n",
       "      <td>5</td>\n",
       "      <td>블라우스</td>\n",
       "    </tr>\n",
       "    <tr>\n",
       "      <th>...</th>\n",
       "      <td>...</td>\n",
       "      <td>...</td>\n",
       "    </tr>\n",
       "    <tr>\n",
       "      <th>495</th>\n",
       "      <td>496</td>\n",
       "      <td>올젠</td>\n",
       "    </tr>\n",
       "    <tr>\n",
       "      <th>496</th>\n",
       "      <td>497</td>\n",
       "      <td>파타고니아</td>\n",
       "    </tr>\n",
       "    <tr>\n",
       "      <th>497</th>\n",
       "      <td>498</td>\n",
       "      <td>윈드브레이커</td>\n",
       "    </tr>\n",
       "    <tr>\n",
       "      <th>498</th>\n",
       "      <td>499</td>\n",
       "      <td>폴로자켓</td>\n",
       "    </tr>\n",
       "    <tr>\n",
       "      <th>499</th>\n",
       "      <td>500</td>\n",
       "      <td>폴로랄프로렌셔츠</td>\n",
       "    </tr>\n",
       "  </tbody>\n",
       "</table>\n",
       "<p>500 rows × 2 columns</p>\n",
       "</div>"
      ],
      "text/plain": [
       "      순위     인기검색어\n",
       "0      1       원피스\n",
       "1      2     트위드자켓\n",
       "2      3     트렌치코트\n",
       "3      4   나이키바람막이\n",
       "4      5      블라우스\n",
       "..   ...       ...\n",
       "495  496        올젠\n",
       "496  497     파타고니아\n",
       "497  498    윈드브레이커\n",
       "498  499      폴로자켓\n",
       "499  500  폴로랄프로렌셔츠\n",
       "\n",
       "[500 rows x 2 columns]"
      ]
     },
     "execution_count": 2,
     "metadata": {},
     "output_type": "execute_result"
    }
   ],
   "source": [
    "import pandas as pd\n",
    "\n",
    "pd.DataFrame(list(map((lambda x : x.split('\\n')), keyword_list)), columns = ['순위', '인기검색어'])"
   ]
  }
 ],
 "metadata": {
  "kernelspec": {
   "display_name": "Python 3",
   "language": "python",
   "name": "python3"
  },
  "language_info": {
   "codemirror_mode": {
    "name": "ipython",
    "version": 3
   },
   "file_extension": ".py",
   "mimetype": "text/x-python",
   "name": "python",
   "nbconvert_exporter": "python",
   "pygments_lexer": "ipython3",
   "version": "3.8.5"
  }
 },
 "nbformat": 4,
 "nbformat_minor": 4
}
